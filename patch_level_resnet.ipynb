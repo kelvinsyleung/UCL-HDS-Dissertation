{
 "cells": [
  {
   "cell_type": "code",
   "execution_count": 37,
   "metadata": {},
   "outputs": [],
   "source": [
    "import glob\n",
    "import logging\n",
    "import random\n",
    "import time\n",
    "import gc\n",
    "\n",
    "import numpy as np\n",
    "import matplotlib.pyplot as plt\n",
    "\n",
    "import torch\n",
    "from torch.utils.data import DataLoader\n",
    "import torchvision\n",
    "import albumentations as A\n",
    "from albumentations.pytorch import ToTensorV2\n",
    "\n",
    "\n",
    "from patch_dataset import PatchDataset\n",
    "from class_mapping import NAME2TYPELABELS_MAP\n",
    "from train_utils import run_train_loop, seed_worker, plot_history\n",
    "from log_utils import setup_logging"
   ]
  },
  {
   "cell_type": "code",
   "execution_count": 13,
   "metadata": {},
   "outputs": [
    {
     "name": "stdout",
     "output_type": "stream",
     "text": [
      "2023-08-11 22:31:47,794-INFO-Logging setup complete.\n",
      "2023-08-11 22:31:47,794-INFO-Logging setup complete.\n"
     ]
    }
   ],
   "source": [
    "setup_logging()"
   ]
  },
  {
   "cell_type": "code",
   "execution_count": 14,
   "metadata": {},
   "outputs": [
    {
     "name": "stdout",
     "output_type": "stream",
     "text": [
      "2023-08-11 22:31:47,803-INFO-pytorch device using: cuda\n",
      "2023-08-11 22:31:47,803-INFO-pytorch device using: cuda\n"
     ]
    }
   ],
   "source": [
    "device = \"cuda\" if torch.cuda.is_available() else \"cpu\"\n",
    "logging.info(f\"pytorch device using: {device}\")"
   ]
  },
  {
   "cell_type": "code",
   "execution_count": 15,
   "metadata": {},
   "outputs": [],
   "source": [
    "MAGNIFICATION = \"20x\"\n",
    "COLOR_SPACE = \"RGB\"\n",
    "\n",
    "PATCH_PATH = \"./data/patches\"\n",
    "\n",
    "# relative to script execution path\n",
    "OUTPUT_PLOT_PATH = \"./output/plots\"\n",
    "MODEL_SAVEPATH = \"./models\""
   ]
  },
  {
   "cell_type": "code",
   "execution_count": 16,
   "metadata": {},
   "outputs": [
    {
     "name": "stdout",
     "output_type": "stream",
     "text": [
      "2023-08-11 22:31:48,221-INFO-Number of 20x train images: 12056\n",
      "2023-08-11 22:31:48,221-INFO-Number of 20x train images: 12056\n",
      "2023-08-11 22:31:48,246-INFO-Number of 20x val images: 1072\n",
      "2023-08-11 22:31:48,246-INFO-Number of 20x val images: 1072\n"
     ]
    }
   ],
   "source": [
    "# load dataset\n",
    "train_patches_paths = sorted(glob.glob(f\"{PATCH_PATH}/train/**/*-{MAGNIFICATION}\"))\n",
    "\n",
    "train_img_path = []\n",
    "train_mask_path = []\n",
    "\n",
    "for roi in train_patches_paths:\n",
    "    train_img_path.extend(glob.glob(roi + \"/patch/*.png\"))\n",
    "    train_mask_path.extend(glob.glob(roi + \"/mask/*.png\"))\n",
    "\n",
    "train_img_path.sort()\n",
    "train_mask_path.sort()\n",
    "\n",
    "assert len(train_img_path) == len(train_mask_path), \"Number of images and masks should be equal\"\n",
    "\n",
    "logging.info(f\"Number of {MAGNIFICATION} train images: {len(train_img_path)}\")\n",
    "\n",
    "val_patches_paths = sorted(glob.glob(f\"{PATCH_PATH}/val/**/*-{MAGNIFICATION}\"))\n",
    "\n",
    "val_img_path = []\n",
    "val_mask_path = []\n",
    "\n",
    "for roi in val_patches_paths:\n",
    "    val_img_path.extend(glob.glob(roi + \"/patch/*.png\"))\n",
    "    val_mask_path.extend(glob.glob(roi + \"/mask/*.png\"))\n",
    "\n",
    "val_img_path.sort()\n",
    "val_mask_path.sort()\n",
    "\n",
    "assert len(val_img_path) == len(val_mask_path), \"Number of images and masks should be equal\"\n",
    "\n",
    "logging.info(f\"Number of {MAGNIFICATION} val images: {len(val_img_path)}\")"
   ]
  },
  {
   "cell_type": "code",
   "execution_count": 17,
   "metadata": {},
   "outputs": [],
   "source": [
    "train_transform = A.Compose([\n",
    "    A.Resize(256, 256),\n",
    "    A.Rotate([90, 90], p=0.5),\n",
    "    A.HorizontalFlip(p=0.5),\n",
    "    A.VerticalFlip(p=0.5),\n",
    "    ToTensorV2()\n",
    "])\n",
    "\n",
    "val_transform = A.Compose([\n",
    "    A.Resize(256, 256),\n",
    "    ToTensorV2()\n",
    "])"
   ]
  },
  {
   "cell_type": "code",
   "execution_count": 18,
   "metadata": {},
   "outputs": [],
   "source": [
    "torch.manual_seed(0)\n",
    "random.seed(0)\n",
    "np.random.seed(0)\n",
    "torch.backends.cudnn.benchmark = False\n",
    "torch.backends.cudnn.deterministic = True"
   ]
  },
  {
   "cell_type": "code",
   "execution_count": 19,
   "metadata": {},
   "outputs": [],
   "source": [
    "patch_train_dataset = PatchDataset(\n",
    "    train_img_path, train_mask_path, mode=\"RGB\", name_to_class_mapping=NAME2TYPELABELS_MAP,\n",
    "    level=\"patch\", transform=train_transform, seed=0\n",
    ")\n",
    "\n",
    "patch_val_dataset = PatchDataset(\n",
    "    val_img_path, val_mask_path, mode=\"RGB\", name_to_class_mapping=NAME2TYPELABELS_MAP,\n",
    "    level=\"patch\", transform=val_transform, seed=0\n",
    ")"
   ]
  },
  {
   "cell_type": "code",
   "execution_count": 23,
   "metadata": {},
   "outputs": [],
   "source": [
    "model = torchvision.models.resnext50_32x4d(num_classes=4)"
   ]
  },
  {
   "cell_type": "code",
   "execution_count": 24,
   "metadata": {},
   "outputs": [
    {
     "data": {
      "text/plain": [
       "6575"
      ]
     },
     "execution_count": 24,
     "metadata": {},
     "output_type": "execute_result"
    }
   ],
   "source": [
    "torch.cuda.empty_cache()\n",
    "gc.collect()"
   ]
  },
  {
   "cell_type": "code",
   "execution_count": 25,
   "metadata": {},
   "outputs": [
    {
     "name": "stderr",
     "output_type": "stream",
     "text": [
      "100%|██████████| 377/377 [14:14<00:00,  2.27s/it]\n"
     ]
    },
    {
     "name": "stdout",
     "output_type": "stream",
     "text": [
      "2023-08-11 22:50:16,826-INFO-train_utils - Epoch 1/100 Train Loss: 0.9123 Validation Loss: 0.9226, Train Score: 0.6190 Validation Score: 0.7169\n",
      "2023-08-11 22:50:16,826-INFO-train_utils - Epoch 1/100 Train Loss: 0.9123 Validation Loss: 0.9226, Train Score: 0.6190 Validation Score: 0.7169\n"
     ]
    },
    {
     "name": "stderr",
     "output_type": "stream",
     "text": [
      "100%|██████████| 377/377 [14:15<00:00,  2.27s/it]\n"
     ]
    },
    {
     "name": "stdout",
     "output_type": "stream",
     "text": [
      "2023-08-11 23:04:47,279-INFO-train_utils - Epoch 2/100 Train Loss: 0.8188 Validation Loss: 0.8523, Train Score: 0.7274 Validation Score: 0.7358\n",
      "2023-08-11 23:04:47,279-INFO-train_utils - Epoch 2/100 Train Loss: 0.8188 Validation Loss: 0.8523, Train Score: 0.7274 Validation Score: 0.7358\n"
     ]
    },
    {
     "name": "stderr",
     "output_type": "stream",
     "text": [
      "100%|██████████| 377/377 [15:12<00:00,  2.42s/it]\n"
     ]
    },
    {
     "name": "stdout",
     "output_type": "stream",
     "text": [
      "2023-08-11 23:20:16,515-INFO-train_utils - Epoch 3/100 Train Loss: 0.7697 Validation Loss: 0.7315, Train Score: 0.8114 Validation Score: 0.7083\n",
      "2023-08-11 23:20:16,515-INFO-train_utils - Epoch 3/100 Train Loss: 0.7697 Validation Loss: 0.7315, Train Score: 0.8114 Validation Score: 0.7083\n"
     ]
    },
    {
     "name": "stderr",
     "output_type": "stream",
     "text": [
      "100%|██████████| 377/377 [16:58<00:00,  2.70s/it]\n"
     ]
    },
    {
     "name": "stdout",
     "output_type": "stream",
     "text": [
      "2023-08-11 23:37:32,408-INFO-train_utils - Epoch 4/100 Train Loss: 0.7161 Validation Loss: 0.9275, Train Score: 0.8693 Validation Score: 0.7031\n",
      "2023-08-11 23:37:32,408-INFO-train_utils - Epoch 4/100 Train Loss: 0.7161 Validation Loss: 0.9275, Train Score: 0.8693 Validation Score: 0.7031\n"
     ]
    },
    {
     "name": "stderr",
     "output_type": "stream",
     "text": [
      "100%|██████████| 377/377 [15:17<00:00,  2.43s/it]\n"
     ]
    },
    {
     "name": "stdout",
     "output_type": "stream",
     "text": [
      "2023-08-11 23:53:05,793-INFO-train_utils - Epoch 5/100 Train Loss: 0.6719 Validation Loss: 0.7634, Train Score: 0.9194 Validation Score: 0.8194\n",
      "2023-08-11 23:53:05,793-INFO-train_utils - Epoch 5/100 Train Loss: 0.6719 Validation Loss: 0.7634, Train Score: 0.9194 Validation Score: 0.8194\n"
     ]
    },
    {
     "name": "stderr",
     "output_type": "stream",
     "text": [
      "100%|██████████| 377/377 [14:41<00:00,  2.34s/it]\n"
     ]
    },
    {
     "name": "stdout",
     "output_type": "stream",
     "text": [
      "2023-08-12 00:08:02,667-INFO-train_utils - Epoch 6/100 Train Loss: 0.6409 Validation Loss: 0.8908, Train Score: 0.8948 Validation Score: 0.8710\n",
      "2023-08-12 00:08:02,667-INFO-train_utils - Epoch 6/100 Train Loss: 0.6409 Validation Loss: 0.8908, Train Score: 0.8948 Validation Score: 0.8710\n"
     ]
    },
    {
     "name": "stderr",
     "output_type": "stream",
     "text": [
      "100%|██████████| 377/377 [14:42<00:00,  2.34s/it]\n"
     ]
    },
    {
     "name": "stdout",
     "output_type": "stream",
     "text": [
      "2023-08-12 00:23:00,733-INFO-train_utils - Epoch 7/100 Train Loss: 0.6068 Validation Loss: 0.9156, Train Score: 0.7619 Validation Score: 0.8021\n",
      "2023-08-12 00:23:00,733-INFO-train_utils - Epoch 7/100 Train Loss: 0.6068 Validation Loss: 0.9156, Train Score: 0.7619 Validation Score: 0.8021\n"
     ]
    },
    {
     "name": "stderr",
     "output_type": "stream",
     "text": [
      "100%|██████████| 377/377 [14:37<00:00,  2.33s/it]\n"
     ]
    },
    {
     "name": "stdout",
     "output_type": "stream",
     "text": [
      "2023-08-12 00:37:53,803-INFO-train_utils - Epoch 8/100 Train Loss: 0.5741 Validation Loss: 0.7135, Train Score: 0.9337 Validation Score: 0.8141\n",
      "2023-08-12 00:37:53,803-INFO-train_utils - Epoch 8/100 Train Loss: 0.5741 Validation Loss: 0.7135, Train Score: 0.9337 Validation Score: 0.8141\n"
     ]
    },
    {
     "name": "stderr",
     "output_type": "stream",
     "text": [
      "100%|██████████| 377/377 [14:34<00:00,  2.32s/it]\n"
     ]
    },
    {
     "name": "stdout",
     "output_type": "stream",
     "text": [
      "2023-08-12 00:52:43,731-INFO-train_utils - Epoch 9/100 Train Loss: 0.5482 Validation Loss: 0.7248, Train Score: 0.9674 Validation Score: 0.8141\n",
      "2023-08-12 00:52:43,731-INFO-train_utils - Epoch 9/100 Train Loss: 0.5482 Validation Loss: 0.7248, Train Score: 0.9674 Validation Score: 0.8141\n"
     ]
    },
    {
     "name": "stderr",
     "output_type": "stream",
     "text": [
      "100%|██████████| 377/377 [14:39<00:00,  2.33s/it]\n"
     ]
    },
    {
     "name": "stdout",
     "output_type": "stream",
     "text": [
      "2023-08-12 01:07:37,997-INFO-train_utils - Epoch 10/100 Train Loss: 0.5315 Validation Loss: 0.8129, Train Score: 0.9255 Validation Score: 0.9540\n",
      "2023-08-12 01:07:37,997-INFO-train_utils - Epoch 10/100 Train Loss: 0.5315 Validation Loss: 0.8129, Train Score: 0.9255 Validation Score: 0.9540\n"
     ]
    },
    {
     "name": "stderr",
     "output_type": "stream",
     "text": [
      "100%|██████████| 377/377 [14:38<00:00,  2.33s/it]\n"
     ]
    },
    {
     "name": "stdout",
     "output_type": "stream",
     "text": [
      "2023-08-12 01:22:31,762-INFO-train_utils - Early stopping at epoch 11, best model at epoch 5\n",
      "2023-08-12 01:22:31,762-INFO-train_utils - Early stopping at epoch 11, best model at epoch 5\n",
      "2023-08-12 01:22:31,764-INFO-main - Total time taken to train the resnet_RGB_20x model: 10004.93s\n",
      "2023-08-12 01:22:31,764-INFO-main - Total time taken to train the resnet_RGB_20x model: 10004.93s\n"
     ]
    },
    {
     "data": {
      "image/png": "[encoded data removed]",
      "text/plain": [
       "<Figure size 1200x400 with 2 Axes>"
      ]
     },
     "metadata": {},
     "output_type": "display_data"
    }
   ],
   "source": [
    "# define the hyperparameters\n",
    "LEARNING_RATE = 1e-4\n",
    "BATCHSIZE = 32\n",
    "EPOCHS = 100\n",
    "NUM_WORKERS = 2\n",
    "PREFETCH_FACTOR = 2\n",
    "\n",
    "if __name__ == \"__main__\":\n",
    "    \n",
    "\n",
    "    # dataloaders\n",
    "    worker_g = torch.Generator()\n",
    "    worker_g.manual_seed(0)\n",
    "\n",
    "    train_batches = DataLoader(\n",
    "        patch_train_dataset, batch_size=BATCHSIZE, shuffle=True,\n",
    "        num_workers=NUM_WORKERS, worker_init_fn=seed_worker, pin_memory=True, prefetch_factor=PREFETCH_FACTOR\n",
    "    )\n",
    "    worker_g.manual_seed(0)\n",
    "    valid_batches = DataLoader(\n",
    "        patch_val_dataset, batch_size=BATCHSIZE, shuffle=False,\n",
    "        num_workers=NUM_WORKERS, worker_init_fn=seed_worker, pin_memory=True, prefetch_factor=PREFETCH_FACTOR\n",
    "    )\n",
    "    \n",
    "    # define the loss function and the optimizer\n",
    "    criterion = torch.nn.CrossEntropyLoss()\n",
    "    optimizer = torch.optim.Adam(model.parameters(), lr=LEARNING_RATE)\n",
    "\n",
    "    start_time = time.time()\n",
    "\n",
    "    set_name = f\"resnet_{COLOR_SPACE}_{MAGNIFICATION}\"\n",
    "    # train the network\n",
    "    history = run_train_loop(\n",
    "        model, 8, device,\n",
    "        train_batches, valid_batches,\n",
    "        EPOCHS, criterion, optimizer, set_name, save_interval=50, save_path=MODEL_SAVEPATH\n",
    "    )\n",
    "\n",
    "    # display the total time needed to perform the training\n",
    "    end_time = time.time()\n",
    "    logging.info(f\"main - Total time taken to train the {set_name} model: {(end_time - start_time):.2f}s\")\n",
    "\n",
    "    # plot the loss and accuracy history\n",
    "    plot_history(history, save_path=f\"{OUTPUT_PLOT_PATH}/{set_name}_history.png\")"
   ]
  }
 ],
 "metadata": {
  "kernelspec": {
   "display_name": "torch",
   "language": "python",
   "name": "python3"
  },
  "language_info": {
   "codemirror_mode": {
    "name": "ipython",
    "version": 3
   },
   "file_extension": ".py",
   "mimetype": "text/x-python",
   "name": "python",
   "nbconvert_exporter": "python",
   "pygments_lexer": "ipython3",
   "version": "3.8.17"
  },
  "orig_nbformat": 4
 },
 "nbformat": 4,
 "nbformat_minor": 2
}
